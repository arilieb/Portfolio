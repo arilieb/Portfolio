{
 "cells": [
  {
   "cell_type": "markdown",
   "metadata": {
    "deletable": false,
    "editable": false,
    "nbgrader": {
     "cell_type": "markdown",
     "checksum": "90f66786799e5bb1fbe5238a4e8d9bc5",
     "grade": false,
     "grade_id": "cell-5b3e4c7330c0575e",
     "locked": true,
     "schema_version": 3,
     "solution": false,
     "task": false
    }
   },
   "source": [
    "# Assignment 2: Introduction to Graph Coloring \n",
    "\n",
    "### Assignment description:\n",
    "\n",
    "In this assignment you will learn more about genetic algorithms and use your knowledge to solve the graph coloring problem. You will be asked to implement a solution to this problem using the DEAP package from assignment 1. \n",
    "\n",
    "### Assignment goals:\n",
    "\n",
    "1. Understand the graph coloring problems\n",
    "2. Learn how to represent graphs in DEAP\n",
    "3. Write the fitness function for the graph coloring problem\n",
    "4. Implement a genetic algorithm to find graph colorings\n",
    "\n",
    "### Assignment question overview:\n",
    "\n",
    "1. Write a function to read in a graph file as a Graph object. [Question 1 here.](#question1)\n",
    "2. Write a function to compute the fitness of an individual. [Question 2 here.](#question2)\n",
    "3. Find a new parameterization of the model for a large graph. [Question 3 here.](#question3)\n"
   ]
  },
  {
   "cell_type": "markdown",
   "metadata": {
    "deletable": false,
    "editable": false,
    "nbgrader": {
     "cell_type": "markdown",
     "checksum": "de0ecd3cc5f925d8c1398ee192c71519",
     "grade": false,
     "grade_id": "cell-18c6671db7b9c3f1",
     "locked": true,
     "schema_version": 3,
     "solution": false,
     "task": false
    }
   },
   "source": [
    "## Graph Coloring Problem\n",
    "\n",
    "We will use genetic algorithms (GAs) to solve the graph coloring problem. The problem takes as input a graph $G=(V,E)$ and an integer $k$ which designates the numbers of different colors (labels) to be used. A sucessful coloring assigns each vertex $v\\in V$ a color $\\in \\{1,2,3,...,k\\}$ such that all adjacent vertices have different colors (i.e. for all vertices $v\\in V$ if there exists an edge $e \\in E$ between $v_1$ and $v_2$ then $v_1$ and $v_2$ must have different colors). The general problem of graph coloring is computationally intractable for $k>2$, so we will use the GA to search heuristically for solutions. "
   ]
  },
  {
   "cell_type": "markdown",
   "metadata": {
    "deletable": false,
    "editable": false,
    "nbgrader": {
     "cell_type": "markdown",
     "checksum": "4d2ee2ec8ca12992b1dd99a24a15594f",
     "grade": false,
     "grade_id": "cell-0c3f1f1d83c6dda5",
     "locked": true,
     "schema_version": 3,
     "solution": false,
     "task": false
    }
   },
   "source": [
    "<a id='representation'></a>\n",
    "## Representation\n",
    "\n",
    "The input for each graph will be a file in the `graphs/` directory. The first line of each file will indicate how many nodes there are in the graph, $n$, and the second line will indicate how many colors to use, $k$, and the remainder of the file will be a list of edges represented as ordered pairs (the two connected vertices seperated by a space) with ones edge per line. \n",
    "\n",
    "The following figure shows the contents of `graphs/graph_1.txt` on the left, a drawing of the uncolored graph in the middle, and a drawing of the colored graph on the right. Note that colorings for the graphs are not necessarily unique.\n",
    "\n",
    "<img src=\"images/graph1.png\" alt=\"Drawing\" style=\"width:800px;\"/>\n",
    "\n",
    "You can assume that the nodes in any input graph are each labeled with a unique (for the node) positive integer starting at zero. Thus, in the example graph above there are four vertices, connected by three edges, and the task is to find a 3-coloring of the graph. \n",
    "\n",
    "Your GA will maintain a population of individuals, where each individual specifies a candidate coloring for the graph. The most natural representation of a candidate graoh coloring along the chromosome is one where the first position corresponds to Node 1, the second to Node 2, etc. Then the value (allele) at each position will correspond to the color. \n",
    "\n",
    "### Imports \n",
    "\n",
    "We will first import the required modules for this notebook. \n",
    "\n",
    "- `random` gives us a way to generate random bits;\n",
    "- `numpy` supports mathematical operations in multidimensional arrays;\n",
    "- `base` gives us access to the Toolbox and base Fitness;\n",
    "- `creator` allows us to create our types;\n",
    "- `tools` grants us access to the operators bank;\n",
    "- `algorithms` enables us some ready generic evolutionary loops;\n",
    "- `math` allows us to use basic mathematical functions."
   ]
  },
  {
   "cell_type": "code",
   "execution_count": 9,
   "metadata": {
    "deletable": false,
    "editable": false,
    "nbgrader": {
     "cell_type": "code",
     "checksum": "6cc635e1463618f7b6b06a14a5ff5c46",
     "grade": false,
     "grade_id": "cell-9a895ad0979f2fd7",
     "locked": true,
     "schema_version": 3,
     "solution": false,
     "task": false
    }
   },
   "outputs": [],
   "source": [
    "import random\n",
    "import numpy as np\n",
    "from deap import base, creator, tools, algorithms\n",
    "import math"
   ]
  },
  {
   "cell_type": "markdown",
   "metadata": {
    "deletable": false,
    "editable": false,
    "nbgrader": {
     "cell_type": "markdown",
     "checksum": "9e252f5b0d074de9e5783eeb64e0c766",
     "grade": false,
     "grade_id": "cell-33060c99917c8c59",
     "locked": true,
     "schema_version": 3,
     "solution": false,
     "task": false
    }
   },
   "source": [
    "### Setting up\n",
    "\n",
    "We will set up our GA by first creating the same types used in assignment 1. "
   ]
  },
  {
   "cell_type": "code",
   "execution_count": 10,
   "metadata": {
    "deletable": false,
    "editable": false,
    "nbgrader": {
     "cell_type": "code",
     "checksum": "d67c61f512b2c959c8eeab1be9317f01",
     "grade": false,
     "grade_id": "cell-7d8141f6128ad033",
     "locked": true,
     "schema_version": 3,
     "solution": false,
     "task": false
    }
   },
   "outputs": [],
   "source": [
    "creator.create(\"FitnessMax\", base.Fitness, weights=(1.0,))\n",
    "creator.create(\"Individual\", list, fitness=creator.FitnessMax)"
   ]
  },
  {
   "cell_type": "markdown",
   "metadata": {
    "deletable": false,
    "editable": false,
    "nbgrader": {
     "cell_type": "markdown",
     "checksum": "9b04582e51b5b4b5c43b4c382dcaddc7",
     "grade": false,
     "grade_id": "cell-6d36c9f8cfc93a1b",
     "locked": true,
     "schema_version": 3,
     "solution": false,
     "task": false
    }
   },
   "source": [
    "### File I/O and Graph Data Structure\n",
    "\n",
    "Before creating individuals, we first must read in an arbitrary graph from the `graphs/` directory into a data structure. Being that the data is already represented as an adjacency matrix, we will use an adjacency list representation to easily access the graph.  An adjacency list represents a graph as an array of linked lists. Each node in the graph will have a linked list of all its adjacent nodes. The structure of this list will allow for an efficient way to check if two nodes share an edge. The figure below shows the example graph given before represented as an adjacency list.\n",
    "\n",
    "<img src=\"images/adj_list.png\" alt=\"Drawing\" style=\"width:800px;\"/>\n",
    "\n",
    "To support this representation we will use two classes. First, the `AdjNode` class will be used to represent the nodes of the graph. This class has three attributes, the value of the vertex, the first adjacent node in the list. The second class is `Graph` and will be used to store all of the nodes and their adjacency lists. The `Graph` class has four attributes, the number of nodes $n$, the number of colors $k$, the array `graph` that will store the adjacency matrix of nodes, and `color_assignment`, a list you will need to use to assign a color to each node. Additionally, there is a helper function `add_edge(s,d)`, that when supplied with two nodes (`s` and `d`) will add an edge to the graph.\n",
    "\n",
    "**To use this structure to check if, say, an edge exists between node 2 and node 3, you can access the Graph.graph\\[2\\] (a linked list of the neighbors of node 2) and traverse it, checking if any of the linked nodes are node.vertex == 3. The symmetric case also works (accessing Graph.graph at 3 and checking for 2 in the linked list of neighbors). To assign a color to a node (e.g., coloring node 4 with color 7) you can use Graph.color_assignment\\[4\\] = 7**\n"
   ]
  },
  {
   "cell_type": "code",
   "execution_count": 11,
   "metadata": {
    "deletable": false,
    "editable": false,
    "nbgrader": {
     "cell_type": "code",
     "checksum": "0b2ebd6aedde9bcba195f01abda0a89c",
     "grade": false,
     "grade_id": "cell-c20d3a239640148c",
     "locked": true,
     "schema_version": 3,
     "solution": false,
     "task": false
    }
   },
   "outputs": [],
   "source": [
    "class AdjNode:\n",
    "    def __init__(self, value):\n",
    "        self.vertex = value\n",
    "        self.next = None\n",
    "\n",
    "\n",
    "class Graph:\n",
    "    def __init__(self, num, colors):\n",
    "        self.n = num\n",
    "        self.k = colors\n",
    "        self.graph = [None] * self.n\n",
    "        self.color_assignment = [None] * self.n\n",
    "        \n",
    "    def get_node(self, s):\n",
    "        return self.graph[s]\n",
    "        \n",
    "    # Add edges\n",
    "    def add_edge(self, s, d):\n",
    "        node = AdjNode(d)  # creates a new node for the destination half of the edge\n",
    "        node.next = self.graph[s]  # connects the newly-created node to the existing linked list (at the front)\n",
    "        self.graph[s] = node  # updates the list to start with the new node (points to the rest of the list)\n",
    "\n",
    "        node = AdjNode(s)\n",
    "        node.next = self.graph[d]\n",
    "        self.graph[d] = node"
   ]
  },
  {
   "cell_type": "markdown",
   "metadata": {
    "deletable": false,
    "editable": false,
    "nbgrader": {
     "cell_type": "markdown",
     "checksum": "1dd164beac86e38e2c3ce2548ffc2b99",
     "grade": false,
     "grade_id": "cell-15ab03e3aedf7043",
     "locked": true,
     "schema_version": 3,
     "solution": false,
     "task": false
    }
   },
   "source": [
    "<a id='question1'></a>\n",
    "## Question 1: \n",
    "\n",
    "Write a function `init_graph(file)` that creates a graph from a text file. Recall that the first line of the text file will be an integer value, $n$, that represents the number of nodes in the graph $G=(V,E)$ and the second line will be an integer value, $k$, that represents the number of colors to be used. The following lines will be ordered pairs seperated by a space delimeter, for each ordered pair in the text file there will be a corresponding edge between the given nodes. Refer to the [Representation](#representation) section for more details. \n",
    "\n",
    "The input of `init_graph(file)` will be a path to a graph file in the `graphs/` directory (ex. `graphs/graph_1.txt`) and the output will be a `Graph` object. "
   ]
  },
  {
   "cell_type": "code",
   "execution_count": 12,
   "metadata": {
    "deletable": false,
    "nbgrader": {
     "cell_type": "code",
     "checksum": "44db911a4f52b598c1f18d6499168756",
     "grade": false,
     "grade_id": "cell-4c6c1bec769930c8",
     "locked": false,
     "schema_version": 3,
     "solution": true,
     "task": false
    }
   },
   "outputs": [],
   "source": [
    "def init_graph(file):\n",
    "    '''\n",
    "    Function to read in graph file and create a graph object. \n",
    "    Inputs: \n",
    "        file: path to a graph file in /graphs\n",
    "    Outputs:\n",
    "        graph: Graph object containing edges given in file\n",
    "    '''\n",
    "    with open(file, 'r') as file:\n",
    "        content = file.read().split('\\n')\n",
    "    for i in range(0,len(content)):\n",
    "        content[i] = list(map(int,content[i].split(' ')))\n",
    "#     print(content)\n",
    "    \n",
    "    graph = Graph(content[0][0], content[1][0])\n",
    "    adj = content[2:]\n",
    "     \n",
    "    for i in adj:\n",
    "        graph.add_edge(i[0], i[1])\n",
    "#     for idx, node in enumerate(graph.graph):\n",
    "#         print(f\"Adjacency List for Node {idx}:\", end=\" \")\n",
    "#         while node:\n",
    "#             print(node.vertex, end=\" -> \")\n",
    "#             node = node.next\n",
    "#         print(\"None\")\n",
    "    return graph\n",
    "# init_graph(\"./graphs/graph_1.txt\")"
   ]
  },
  {
   "cell_type": "code",
   "execution_count": 13,
   "metadata": {
    "deletable": false,
    "editable": false,
    "nbgrader": {
     "cell_type": "code",
     "checksum": "20aec5c054109b0da5151446f8383bb1",
     "grade": true,
     "grade_id": "cell-8b25a9aa54d60e19",
     "locked": true,
     "points": 10,
     "schema_version": 3,
     "solution": false,
     "task": false
    }
   },
   "outputs": [
    {
     "data": {
      "text/plain": [
       "'\\nThis cell contains hidden tests, which are run on submission.\\nHidden test cases test on graphs in the graphs/ directory. \\n'"
      ]
     },
     "execution_count": 13,
     "metadata": {},
     "output_type": "execute_result"
    }
   ],
   "source": [
    "'''\n",
    "This cell contains hidden tests, which are run on submission.\n",
    "Hidden test cases test on graphs in the graphs/ directory. \n",
    "'''"
   ]
  },
  {
   "cell_type": "markdown",
   "metadata": {
    "deletable": false,
    "editable": false,
    "nbgrader": {
     "cell_type": "markdown",
     "checksum": "57a9391419e3abfffb311cc98953b325",
     "grade": false,
     "grade_id": "cell-e0394a1e93263e9f",
     "locked": true,
     "schema_version": 3,
     "solution": false,
     "task": false
    }
   },
   "source": [
    "### Creating Individuals\n",
    "\n",
    "As mentioned prior, the most natural representation of a candidate graph coloring along the chromosome is one where the first position corresponds to Node 1, the second to Node 2, etc. Then the value (allele) at each position will correspond to the color. This bit string encoding will require that you allocate $\\lceil log_2k \\rceil$ bits for each gene. This scheme has the drawback that for some values of $k$ not all bit values will correspond to a legal color. Those individuals with an invalid coloring will have a fitness of 0. \n",
    "\n",
    "The figure below shows this encoding scheme on our example graph. Here, $k=3$ and $n=4$. This means that each individual will be lenghth $l=4\\lceil log_2k \\rceil$. In the example, the substring 00 encodes red, 01 encodes blue, and 10 encodes for green. Since 3 is not a power of 2, the substring 11 is not used.\n",
    "\n",
    "<img src=\"images/encoding.png\" alt=\"Drawing\" style=\"width:800px;\"/>\n",
    "\n",
    "We will need to register the boolean attribure as well as the individual and population with the DEAP toolbox. We first instantiate the toolbox and then register the boolean attributes since they are both independent of the given graph. Next, we create the function `register_ind(graph)` which takes a graph and registers the correct size of individual to the toolbox. This function will also register the population given the indiviudal. This function will be used later in the main method, but will be helpful now in testing the fitness function. "
   ]
  },
  {
   "cell_type": "code",
   "execution_count": 14,
   "metadata": {
    "deletable": false,
    "editable": false,
    "nbgrader": {
     "cell_type": "code",
     "checksum": "3cbe5c97692047c9db4445962f5bfd3a",
     "grade": false,
     "grade_id": "cell-66d241c6df113e0e",
     "locked": true,
     "schema_version": 3,
     "solution": false,
     "task": false
    }
   },
   "outputs": [],
   "source": [
    "toolbox = base.Toolbox()\n",
    "toolbox.register(\"attr_bool\", random.randint, 0, 1)\n",
    "\n",
    "def register_ind(graph):\n",
    "    ##get value for n and k from graph\n",
    "    n = graph.n\n",
    "    k = graph.k\n",
    "    \n",
    "    ##calculate the size of each individual\n",
    "    ind_size = math.ceil(math.log2(k))*n\n",
    "    \n",
    "    ##register individual and population with toolbox\n",
    "    toolbox.register(\"individual\", tools.initRepeat, creator.Individual, toolbox.attr_bool, n=ind_size)\n",
    "    toolbox.register(\"population\", tools.initRepeat, list, toolbox.individual)"
   ]
  },
  {
   "cell_type": "markdown",
   "metadata": {
    "deletable": false,
    "editable": false,
    "nbgrader": {
     "cell_type": "markdown",
     "checksum": "349eb6d420fdd357b586321fed13bf3a",
     "grade": false,
     "grade_id": "cell-2b36294aa476622e",
     "locked": true,
     "schema_version": 3,
     "solution": false,
     "task": false
    }
   },
   "source": [
    "### Fitness Function\n",
    "\n",
    "For each individual, we want to know how close its encoded coloring is to a legal coloring of the graph (recall, a legal coloring is one where no nodes connected by an edge have the same color). Let $G=(V,E)$ be a graph with $n$ nodes and $m$ edges. If $c(i)$ is the assigned color of node $i$, then a coloring of a graph is $C(i)=\\{c(0),c(1),...c(n)\\}$. For a given edge $i,j\\in E$, let the function $\\delta(i,j) = 1$ if $c(i)\\not=c(j)$, and $\\delta(i,j)=0$ if $c(i)=c(j)$. A natural fitness function then is:\n",
    "\n",
    "$$F(C(G)) = \\frac{\\sum_{i,j\\in E} \\delta(i,j)}{m}$$\n",
    "\n",
    "That is the fraction of edges where the endpoints do not share the same color, divided by the total number of edges.\n",
    "<a id='question2'></a>\n",
    "## Question 2:\n",
    "\n",
    "Write the fitness function `eval_graph(graph, individual)` that computes the fitness of an individual given a graph and individual. The input will be a graph object and an individual object. The output will be the total fitness of the indiviudal. **Remember that if $\\lceil log_2(k) \\rceil \\not= log_2(k)$ then some color encodings will be invalid**."
   ]
  },
  {
   "cell_type": "code",
   "execution_count": 15,
   "metadata": {
    "deletable": false,
    "nbgrader": {
     "cell_type": "code",
     "checksum": "a59fd765d670be266cb2c57849ed15e3",
     "grade": false,
     "grade_id": "cell-5ad705471704ae9f",
     "locked": false,
     "schema_version": 3,
     "solution": true,
     "task": false
    }
   },
   "outputs": [
    {
     "name": "stdout",
     "output_type": "stream",
     "text": [
      "[2, 0, 2, 1]\n"
     ]
    },
    {
     "data": {
      "text/plain": [
       "(0.6666666666666666,)"
      ]
     },
     "execution_count": 15,
     "metadata": {},
     "output_type": "execute_result"
    }
   ],
   "source": [
    "def eval_graph(graph, individual):\n",
    "    edges = []\n",
    "    section_size = math.ceil(math.log2(graph.k))\n",
    "    index = 0\n",
    "    for i in range(0, len(individual), section_size):\n",
    "        bits = individual[i:i+section_size]\n",
    "        number = int(''.join(map(str, bits)), 2) \n",
    "        graph.color_assignment[index] = number\n",
    "        index += 1\n",
    "        \n",
    "    for i in range (len(graph.graph)):\n",
    "        edges.append([i,graph.graph[i].vertex])\n",
    "        temp = graph.graph[i].next\n",
    "        while temp != None:\n",
    "            edges.append([i, temp.vertex])\n",
    "            temp = temp.next\n",
    "            \n",
    "    invalids_possible = False\n",
    "    if math.ceil(math.log2(graph.k)) != math.log2(graph.k):\n",
    "        invalids_possible = True\n",
    "        \n",
    "    bi_color_endpoints = 0\n",
    "    for i in edges:\n",
    "        if invalids_possible == True:\n",
    "            invalid = 2**section_size - 1\n",
    "            if graph.color_assignment[i[0]] == invalid or graph.color_assignment[i[1]] == invalid:\n",
    "                return(0,)\n",
    "        if graph.color_assignment[i[0]] != graph.color_assignment[i[1]]:\n",
    "            \n",
    "            bi_color_endpoints += 1\n",
    "    fitness = bi_color_endpoints/len(edges)\n",
    "#     print(graph.color_assignment)\n",
    "    return(fitness,)\n",
    "\n",
    "# graph = init_graph(\"graphs/graph_1.txt\")\n",
    "# register_ind(graph)\n",
    "\n",
    "# ind = creator.Individual([1, 0, 0, 0, 1, 0, 0, 1])\n",
    "# eval_graph(graph, ind)\n"
   ]
  },
  {
   "cell_type": "markdown",
   "metadata": {
    "deletable": false,
    "editable": false,
    "nbgrader": {
     "cell_type": "markdown",
     "checksum": "9c90860b56eac07679618f51dd3ae1b6",
     "grade": false,
     "grade_id": "cell-5a6aeecdf22036db",
     "locked": true,
     "schema_version": 3,
     "solution": false,
     "task": false
    }
   },
   "source": [
    "Your function should return (0.6666666666666666,) for inputs below:"
   ]
  },
  {
   "cell_type": "code",
   "execution_count": 3,
   "metadata": {
    "deletable": false,
    "editable": false,
    "nbgrader": {
     "cell_type": "code",
     "checksum": "08123a7c235160e2b35cb4254322ae09",
     "grade": false,
     "grade_id": "cell-4c2b5a9a0c85664c",
     "locked": true,
     "schema_version": 3,
     "solution": false,
     "task": false
    }
   },
   "outputs": [
    {
     "ename": "NameError",
     "evalue": "name 'init_graph' is not defined",
     "output_type": "error",
     "traceback": [
      "\u001b[0;31m---------------------------------------------------------------------------\u001b[0m",
      "\u001b[0;31mNameError\u001b[0m                                 Traceback (most recent call last)",
      "\u001b[0;32m<ipython-input-3-8c09447cb258>\u001b[0m in \u001b[0;36m<module>\u001b[0;34m\u001b[0m\n\u001b[0;32m----> 1\u001b[0;31m \u001b[0mgraph\u001b[0m \u001b[0;34m=\u001b[0m \u001b[0minit_graph\u001b[0m\u001b[0;34m(\u001b[0m\u001b[0;34m\"graphs/graph_1.txt\"\u001b[0m\u001b[0;34m)\u001b[0m\u001b[0;34m\u001b[0m\u001b[0;34m\u001b[0m\u001b[0m\n\u001b[0m\u001b[1;32m      2\u001b[0m \u001b[0mregister_ind\u001b[0m\u001b[0;34m(\u001b[0m\u001b[0mgraph\u001b[0m\u001b[0;34m)\u001b[0m\u001b[0;34m\u001b[0m\u001b[0;34m\u001b[0m\u001b[0m\n\u001b[1;32m      3\u001b[0m \u001b[0;34m\u001b[0m\u001b[0m\n\u001b[1;32m      4\u001b[0m \u001b[0mind\u001b[0m \u001b[0;34m=\u001b[0m \u001b[0mcreator\u001b[0m\u001b[0;34m.\u001b[0m\u001b[0mIndividual\u001b[0m\u001b[0;34m(\u001b[0m\u001b[0;34m[\u001b[0m\u001b[0;36m1\u001b[0m\u001b[0;34m,\u001b[0m \u001b[0;36m0\u001b[0m\u001b[0;34m,\u001b[0m \u001b[0;36m0\u001b[0m\u001b[0;34m,\u001b[0m \u001b[0;36m0\u001b[0m\u001b[0;34m,\u001b[0m \u001b[0;36m1\u001b[0m\u001b[0;34m,\u001b[0m \u001b[0;36m0\u001b[0m\u001b[0;34m,\u001b[0m \u001b[0;36m0\u001b[0m\u001b[0;34m,\u001b[0m \u001b[0;36m1\u001b[0m\u001b[0;34m]\u001b[0m\u001b[0;34m)\u001b[0m\u001b[0;34m\u001b[0m\u001b[0;34m\u001b[0m\u001b[0m\n\u001b[1;32m      5\u001b[0m \u001b[0meval_graph\u001b[0m\u001b[0;34m(\u001b[0m\u001b[0mgraph\u001b[0m\u001b[0;34m,\u001b[0m \u001b[0mind\u001b[0m\u001b[0;34m)\u001b[0m\u001b[0;34m\u001b[0m\u001b[0;34m\u001b[0m\u001b[0m\n",
      "\u001b[0;31mNameError\u001b[0m: name 'init_graph' is not defined"
     ]
    }
   ],
   "source": [
    "graph = init_graph(\"graphs/graph_1.txt\")\n",
    "register_ind(graph)\n",
    "\n",
    "ind = creator.Individual([1, 0, 0, 0, 1, 0, 0, 1])\n",
    "eval_graph(graph, ind)\n"
   ]
  },
  {
   "cell_type": "code",
   "execution_count": 38,
   "metadata": {
    "deletable": false,
    "editable": false,
    "nbgrader": {
     "cell_type": "code",
     "checksum": "f04c71a1394346bb9a9130483371c900",
     "grade": true,
     "grade_id": "cell-ffa036377d314e18",
     "locked": true,
     "points": 20,
     "schema_version": 3,
     "solution": false,
     "task": false
    }
   },
   "outputs": [
    {
     "data": {
      "text/plain": [
       "'\\nThis cell contains hidden test cases, which are run on submission.\\nTests 1-10 are on graphs/graph_1.txt; tests 11-20 are on graphs/graph_2.txt.\\n'"
      ]
     },
     "execution_count": 38,
     "metadata": {},
     "output_type": "execute_result"
    }
   ],
   "source": [
    "'''\n",
    "This cell contains hidden test cases, which are run on submission.\n",
    "Tests 1-10 are on graphs/graph_1.txt; tests 11-20 are on graphs/graph_2.txt.\n",
    "'''"
   ]
  },
  {
   "cell_type": "markdown",
   "metadata": {
    "deletable": false,
    "editable": false,
    "nbgrader": {
     "cell_type": "markdown",
     "checksum": "4651d6fb7ff1bec85157fb87ab27f7b7",
     "grade": false,
     "grade_id": "cell-5c5b4763d84df5ea",
     "locked": true,
     "schema_version": 3,
     "solution": false,
     "task": false
    }
   },
   "source": [
    "### Update Toolbox and Evolve Population\n",
    "\n",
    "Now that we have all of the necessary functions to create a graph and calculate the fitness of an individual, we can create our population and allow it to evolve. To do this, we will need to write a main function that takes a path to a graph file and finds the coloring with the highest fitness. Note that the range of the fitness function is $[0,1]$. \n",
    "<a id='question3'></a>\n",
    "## Question 3: \n",
    "\n",
    "The parameterization that we used in the previous assignment will not be sufficient to guarantee (with a high probability) convergence to a fitness value of 1 for larger graphs such as ``graph_4.txt``. Before running the main function, we will need to update the parameterization of the model. Recall from assignment 1 that ``cxpb`` is the probability with which two individuals are crossed, ``mutpb`` is the probability for mutating an individual, ``indpb`` is the the independent probability of each attribute to be mutated, ``tournsize`` is the size of each tournament, ``n`` is the population size, and  ``ngen`` is the number of generations. Below, set the values of these parameters such that a run of the main function will return a individual with fitness 1 for ``graph_4.txt``. "
   ]
  },
  {
   "cell_type": "code",
   "execution_count": 186,
   "metadata": {
    "deletable": false,
    "nbgrader": {
     "cell_type": "code",
     "checksum": "d7f3a3b8c902a9de5c14833aaa78d8d4",
     "grade": false,
     "grade_id": "cell-f802088adb529431",
     "locked": false,
     "schema_version": 3,
     "solution": true,
     "task": false
    }
   },
   "outputs": [],
   "source": [
    "def main(file):\n",
    "    import numpy\n",
    "    \n",
    "    '''\n",
    "    Set the following parameters: indpb, tournsize, cxpb, mutpb, ngen, and n. \n",
    "    Below is the orginal parameterization of the model:\n",
    "        indpb = 0.10\n",
    "        tournsize = 3\n",
    "        cxpb = 0.5\n",
    "        mutpb = 0.2\n",
    "        ngen = 30\n",
    "        n=50\n",
    "    '''\n",
    "    \n",
    "    # your code here\n",
    "    indpb = 0.3\n",
    "    tournsize = 3\n",
    "    cxpb = 0.8\n",
    "    mutpb = 0.45\n",
    "    ngen = 120\n",
    "    n=60\n",
    "    \n",
    "    graph = init_graph(file)\n",
    "    register_ind(graph)\n",
    "    \n",
    "    toolbox.register(\"evaluate\", eval_graph, graph)\n",
    "    toolbox.register(\"mate\", tools.cxTwoPoint)\n",
    "    toolbox.register(\"mutate\", tools.mutFlipBit, indpb=indpb)\n",
    "    toolbox.register(\"select\", tools.selTournament, tournsize=tournsize)\n",
    "    \n",
    "    pop = toolbox.population(n=n)\n",
    "    hof = tools.HallOfFame(1)\n",
    "    stats = tools.Statistics(lambda ind: ind.fitness.values)\n",
    "    stats.register(\"avg\", numpy.mean)\n",
    "    stats.register(\"min\", numpy.min)\n",
    "    stats.register(\"max\", numpy.max)\n",
    "    \n",
    "    \n",
    "    pop, logbook = algorithms.eaSimple(pop, toolbox, cxpb=cxpb, mutpb=mutpb, ngen=ngen, stats=stats, halloffame=hof, verbose=True)\n",
    "    \n",
    "    \n",
    "    return pop, logbook, hof"
   ]
  },
  {
   "cell_type": "code",
   "execution_count": 187,
   "metadata": {
    "deletable": false,
    "editable": false,
    "nbgrader": {
     "cell_type": "code",
     "checksum": "a2a1c20b0cd98f1d4c9ce225cf07b4e8",
     "grade": true,
     "grade_id": "cell-1e115351c6bc6c77",
     "locked": true,
     "points": 5,
     "schema_version": 3,
     "solution": false,
     "task": false
    }
   },
   "outputs": [
    {
     "name": "stdout",
     "output_type": "stream",
     "text": [
      "gen\tnevals\tavg     \tmin  \tmax     \n",
      "0  \t60    \t0.756481\t0.625\t0.944444\n",
      "1  \t50    \t0.780556\t0.666667\t0.944444\n",
      "2  \t56    \t0.792824\t0.680556\t0.944444\n",
      "3  \t52    \t0.805093\t0.652778\t0.944444\n",
      "4  \t53    \t0.794676\t0.625   \t0.944444\n",
      "5  \t55    \t0.826852\t0.638889\t0.944444\n",
      "6  \t54    \t0.811574\t0.694444\t0.944444\n",
      "7  \t57    \t0.814815\t0.694444\t0.944444\n",
      "8  \t53    \t0.824074\t0.708333\t0.958333\n",
      "9  \t57    \t0.80787 \t0.680556\t0.944444\n",
      "10 \t51    \t0.832639\t0.541667\t0.958333\n",
      "11 \t55    \t0.853472\t0.694444\t0.972222\n",
      "12 \t55    \t0.852315\t0.666667\t0.958333\n",
      "13 \t54    \t0.848843\t0.680556\t0.958333\n",
      "14 \t53    \t0.870833\t0.680556\t0.972222\n",
      "15 \t51    \t0.854167\t0.694444\t0.958333\n",
      "16 \t54    \t0.86412 \t0.680556\t0.972222\n",
      "17 \t52    \t0.878009\t0.652778\t0.972222\n",
      "18 \t46    \t0.875   \t0.694444\t0.972222\n",
      "19 \t52    \t0.87037 \t0.625   \t0.972222\n",
      "20 \t57    \t0.848148\t0.666667\t0.986111\n",
      "21 \t56    \t0.847917\t0.666667\t0.986111\n",
      "22 \t52    \t0.852546\t0.638889\t0.986111\n",
      "23 \t52    \t0.845833\t0.680556\t0.986111\n",
      "24 \t57    \t0.851389\t0.708333\t1       \n",
      "25 \t58    \t0.871528\t0.652778\t0.986111\n",
      "26 \t58    \t0.861574\t0.694444\t0.986111\n",
      "27 \t57    \t0.849074\t0.666667\t0.986111\n",
      "28 \t53    \t0.850926\t0.652778\t0.986111\n",
      "29 \t56    \t0.891898\t0.638889\t0.986111\n",
      "30 \t53    \t0.881944\t0.694444\t0.986111\n",
      "31 \t54    \t0.879398\t0.680556\t0.986111\n",
      "32 \t54    \t0.887731\t0.638889\t0.986111\n",
      "33 \t57    \t0.861111\t0.680556\t0.986111\n",
      "34 \t52    \t0.856019\t0.666667\t0.986111\n",
      "35 \t49    \t0.879398\t0.666667\t0.986111\n",
      "36 \t56    \t0.875926\t0.680556\t0.986111\n",
      "37 \t49    \t0.897454\t0.680556\t0.986111\n",
      "38 \t52    \t0.868287\t0.625   \t0.986111\n",
      "39 \t52    \t0.847917\t0.694444\t0.986111\n",
      "40 \t56    \t0.86713 \t0.680556\t0.986111\n",
      "41 \t58    \t0.864583\t0.708333\t0.986111\n",
      "42 \t50    \t0.872222\t0.652778\t0.986111\n",
      "43 \t56    \t0.879861\t0.694444\t0.986111\n",
      "44 \t58    \t0.856713\t0.680556\t1       \n",
      "45 \t54    \t0.85162 \t0.652778\t1       \n",
      "46 \t53    \t0.86088 \t0.666667\t0.986111\n",
      "47 \t53    \t0.859722\t0.680556\t0.986111\n",
      "48 \t58    \t0.869676\t0.597222\t0.986111\n",
      "49 \t56    \t0.862037\t0.611111\t0.986111\n",
      "50 \t55    \t0.89213 \t0.708333\t0.986111\n",
      "51 \t56    \t0.893056\t0.680556\t0.986111\n",
      "52 \t53    \t0.888426\t0.694444\t0.986111\n",
      "53 \t54    \t0.890972\t0.694444\t0.986111\n",
      "54 \t55    \t0.890741\t0.694444\t0.986111\n",
      "55 \t52    \t0.903241\t0.708333\t0.986111\n",
      "56 \t58    \t0.867824\t0.708333\t0.986111\n",
      "57 \t55    \t0.875   \t0.638889\t0.986111\n",
      "58 \t56    \t0.884259\t0.722222\t0.986111\n",
      "59 \t51    \t0.846759\t0.680556\t0.986111\n",
      "60 \t48    \t0.854398\t0.680556\t0.986111\n",
      "61 \t51    \t0.880556\t0.708333\t0.986111\n",
      "62 \t55    \t0.888657\t0.680556\t0.986111\n",
      "63 \t56    \t0.898843\t0.694444\t0.986111\n",
      "64 \t53    \t0.899306\t0.708333\t0.986111\n",
      "65 \t51    \t0.896759\t0.666667\t0.986111\n",
      "66 \t55    \t0.883333\t0.708333\t0.986111\n",
      "67 \t54    \t0.880324\t0.680556\t0.986111\n",
      "68 \t54    \t0.865741\t0.694444\t0.986111\n",
      "69 \t53    \t0.872685\t0.666667\t0.986111\n",
      "70 \t54    \t0.889583\t0.722222\t0.986111\n",
      "71 \t55    \t0.864352\t0.652778\t0.986111\n",
      "72 \t58    \t0.861343\t0.625   \t0.986111\n",
      "73 \t57    \t0.86412 \t0.652778\t0.986111\n",
      "74 \t51    \t0.85463 \t0.666667\t0.986111\n",
      "75 \t53    \t0.852778\t0.666667\t0.986111\n",
      "76 \t57    \t0.859722\t0.666667\t0.986111\n",
      "77 \t52    \t0.876157\t0.708333\t0.986111\n",
      "78 \t51    \t0.86713 \t0.680556\t0.986111\n",
      "79 \t54    \t0.864352\t0.680556\t0.986111\n",
      "80 \t58    \t0.873611\t0.652778\t1       \n",
      "81 \t54    \t0.859954\t0.652778\t1       \n",
      "82 \t55    \t0.85162 \t0.652778\t0.986111\n",
      "83 \t53    \t0.872917\t0.652778\t0.986111\n",
      "84 \t56    \t0.867361\t0.638889\t0.986111\n",
      "85 \t53    \t0.887963\t0.638889\t0.986111\n",
      "86 \t54    \t0.896759\t0.652778\t0.986111\n",
      "87 \t50    \t0.888194\t0.680556\t0.986111\n",
      "88 \t55    \t0.868287\t0.666667\t0.986111\n",
      "89 \t54    \t0.864352\t0.708333\t0.986111\n",
      "90 \t52    \t0.853472\t0.694444\t0.986111\n",
      "91 \t54    \t0.859954\t0.708333\t0.986111\n",
      "92 \t50    \t0.85463 \t0.625   \t0.986111\n",
      "93 \t51    \t0.860648\t0.680556\t0.986111\n",
      "94 \t57    \t0.850463\t0.680556\t0.986111\n",
      "95 \t53    \t0.862963\t0.652778\t0.986111\n",
      "96 \t60    \t0.854167\t0.611111\t0.986111\n",
      "97 \t58    \t0.869444\t0.694444\t0.986111\n",
      "98 \t52    \t0.850231\t0.638889\t0.986111\n",
      "99 \t54    \t0.845139\t0.638889\t0.986111\n",
      "100\t51    \t0.859722\t0.597222\t0.986111\n",
      "101\t56    \t0.840278\t0.666667\t0.986111\n",
      "102\t54    \t0.871528\t0.694444\t0.986111\n",
      "103\t50    \t0.875   \t0.666667\t0.986111\n",
      "104\t55    \t0.844907\t0.680556\t0.986111\n",
      "105\t53    \t0.861111\t0.611111\t1       \n",
      "106\t52    \t0.856713\t0.666667\t1       \n",
      "107\t54    \t0.853704\t0.638889\t1       \n",
      "108\t45    \t0.878241\t0.652778\t1       \n",
      "109\t51    \t0.871065\t0.638889\t1       \n",
      "110\t53    \t0.881019\t0.666667\t1       \n",
      "111\t55    \t0.862963\t0.680556\t1       \n",
      "112\t55    \t0.871991\t0.722222\t1       \n",
      "113\t51    \t0.871528\t0.666667\t1       \n",
      "114\t57    \t0.856713\t0.666667\t1       \n",
      "115\t54    \t0.84838 \t0.583333\t1       \n",
      "116\t52    \t0.876157\t0.638889\t1       \n",
      "117\t58    \t0.882176\t0.652778\t1       \n",
      "118\t59    \t0.90162 \t0.652778\t1       \n",
      "119\t60    \t0.888889\t0.680556\t1       \n",
      "120\t53    \t0.89213 \t0.680556\t1       \n",
      "Best individual is: [0, 0, 0, 0, 1, 1, 1, 0, 1, 1, 0, 1, 0, 0, 1, 0, 1, 1, 0, 0, 1, 0, 1, 1, 1, 0, 1, 1, 1, 0, 0, 1, 1, 1, 1, 1, 0, 1, 0, 0, 1, 1, 0, 0, 0, 1, 0, 1, 0, 1, 1, 0, 0, 0, 0, 1, 1, 0, 0, 1, 1, 0, 1, 0, 1, 1, 1, 1, 1, 1, 1, 0, 0, 1]\n",
      "with fitness: (1.0,)\n"
     ]
    },
    {
     "data": {
      "image/png": "[encoded data removed]",
      "text/plain": [
       "<Figure size 432x288 with 1 Axes>"
      ]
     },
     "metadata": {
      "needs_background": "light"
     },
     "output_type": "display_data"
    }
   ],
   "source": [
    "if __name__ == \"__main__\":\n",
    "    pop, log, hof = main(\"graphs/graph_4.txt\")\n",
    "    print(\"Best individual is: %s\\nwith fitness: %s\" % (hof[0], hof[0].fitness))\n",
    "    \n",
    "    \n",
    "    import matplotlib.pyplot as plt\n",
    "    gen, avg, min_, max_ = log.select(\"gen\", \"avg\", \"min\", \"max\")\n",
    "    plt.plot(gen, avg, label=\"average\")\n",
    "    plt.plot(gen, min_, label=\"minimum\")\n",
    "    plt.plot(gen, max_, label=\"maximum\")\n",
    "    plt.xlabel(\"Generation\")\n",
    "    plt.ylabel(\"Fitness\")\n",
    "    plt.legend(loc=\"lower right\")\n",
    "    plt.show()"
   ]
  },
  {
   "cell_type": "code",
   "execution_count": null,
   "metadata": {},
   "outputs": [],
   "source": []
  },
  {
   "cell_type": "code",
   "execution_count": null,
   "metadata": {},
   "outputs": [],
   "source": []
  },
  {
   "cell_type": "code",
   "execution_count": null,
   "metadata": {},
   "outputs": [],
   "source": []
  }
 ],
 "metadata": {
  "kernelspec": {
   "display_name": "Python 3",
   "language": "python",
   "name": "python3"
  },
  "language_info": {
   "codemirror_mode": {
    "name": "ipython",
    "version": 3
   },
   "file_extension": ".py",
   "mimetype": "text/x-python",
   "name": "python",
   "nbconvert_exporter": "python",
   "pygments_lexer": "ipython3",
   "version": "3.7.6"
  }
 },
 "nbformat": 4,
 "nbformat_minor": 5
}
