{
 "cells": [
  {
   "cell_type": "markdown",
   "metadata": {
    "deletable": false,
    "editable": false,
    "nbgrader": {
     "cell_type": "markdown",
     "checksum": "a0b5f662ab7014a7de17663d9f2c5dcf",
     "grade": false,
     "grade_id": "cell-656b7f71c8d53039",
     "locked": true,
     "schema_version": 3,
     "solution": false,
     "task": false
    }
   },
   "source": [
    "# Assignment 7: Ant Colony Optimization for Network Route Repair\n",
    "\n",
    "### Assignment description:\n",
    "\n",
    "In this assignment you will use a implementation of the ant colony optimization algorithm described in Chandrasekhar et al. paper,  \"A distributed algorithm to maintain and repair the trail networks of arboreal ants,\"  to repair breaks for a variety of graphs. While you will not be responsible for writing the algorithm, in this assignment you will run experiments over different problem instances and parameterizations. \n",
    "\n",
    "### Assignment goals:\n",
    "\n",
    "1. Use and apply the ant colony optimization algorithm\n",
    "2. Plot and evaluate your results over a series of experimental runs\n",
    "\n",
    "### Assignment question overview:\n",
    "\n",
    "1. Write a function to calculate the success rate. [Question 1](#question1)\n",
    "2. Write a function to find the optimial parameterization. [Question 2](#question2)\n"
   ]
  },
  {
   "cell_type": "markdown",
   "metadata": {
    "deletable": false,
    "editable": false,
    "nbgrader": {
     "cell_type": "markdown",
     "checksum": "d43b0276a8f9dde5cee44c7b4d116c59",
     "grade": false,
     "grade_id": "cell-ffb71e286f15be20",
     "locked": true,
     "schema_version": 3,
     "solution": false,
     "task": false
    }
   },
   "source": [
    "## Ant Colony Optimization Algorithm\n",
    "\n",
    "The algorithm we will be using was written by Dr. Joshua Daymude and was adapted from the implementation used in Chandrasekhar et al. You have been given this program, and its path is ``./trailrepair.py``. We suggest that you review the python code before running your experiments to gain a high-level understanding of what is happening under the hood. \n",
    "\n",
    "### Parameterization\n",
    "\n",
    "As mentioned in the trail repair paper (Chandrasekhar et al.), there are both computational and biological parameters that comprise the algorithm. We will first look at the computational parameters. All parameters are passed as arguments to the python code, that is, you first include the flag and then the parameter value. How this works will be shown later in an example.  Here are the computational parameters:\n",
    "\n",
    "\n",
    "- `-g` or `--g_top` Graph topology, one of: [minimal | simple | medium | full | spanning | euroroad | chicago | uspower | paroad |caroad]\n",
    "- `-R` or `--runs` Number of runs\n",
    "- `-T` or `--steps` Number of time steps\n",
    "- `-N` or `--ants` Number of ants\n",
    "- `-C` or `--cut` Index of cut edge\n",
    "- `-V` or `--size` Number of vertices in subgraph samples\n",
    "\n",
    "\n",
    "In addition to the parameters, there are some options provided by the argument parser.\n",
    "\n",
    "- `-E` or `--extra` Use the variant with extra ants at the nests\n",
    "- `-D` or `--draw` Output the trail network at the specified iteration (saved to `/images` directory)\n",
    "\n",
    "Finally, you are given the option to adjust the three biological parameters discussed in the paper, $q_{\\text{add}}$, $q_{\\text{decay}}$, and $q_{\\text{explore}}$. For more information on these parameters, please refer to the trail repair lecture or the paper. These parameters are passed to the argument parser using the following definitions. \n",
    "\n",
    "- `-A` or `--add` Amount of pheromone to add on a traveled edge\n",
    "- `-Q` or `--decay` Fraction of pheromone that evaporates per time step\n",
    "- `-X` or `--explore` Probability that an ant takes an explore step\n",
    "\n",
    "## Reproducing Chandrasekhar Results\n",
    "\n",
    "In this section, we will focus on reproducing the experiments in the paper \"A distributed algorithm to maintain\n",
    "and repair the trail networks of arboreal ants.\" \n",
    "\n",
    "### Input Graph Topolgies\n",
    "\n",
    "Recall that the original trail repair paper experimented on five graphs of increasing difficulty. These graphs are as follows: minimal graph, simple graph, medium graph, full grid, spanning graph. The paths to each respective graph are given below. For this assignment, you are asked to experiment with only three of them: MINIMAL, MEDIUM, SPANNING.  Note that when you pass the graph to the python code you will not need to provide the path but rather the symbolic name from the following list: [minimal | simple | medium | full | spanning | euroroad | chicago | uspower | paroad |caroad]. Although you are asked only to submit the assignment for three graphs for this question, we provide access to all of them, in case you find it useful or wish to experiment on your own.\n",
    "\n",
    "- `data/g_minimal.txt` \n",
    "- `data/g_simple.txt`\n",
    "- `data/g_medium.txt`\n",
    "- `data/g_full.txt`\n",
    "- `data/g_spanning`\n",
    "\n",
    "The series of figures below shows what these topolgies look like after an attempted path reapir. The graphs are drawn to show only the actual edges; you may notice that this is slightly different from the visual representation shown in the paper, but the topolgies are the same.\n",
    "\n",
    "\n",
    "<table><tr>  \n",
    "<td> \n",
    "  <p align=\"center\" style=\"padding: 10px\">\n",
    "    <img alt=\"Forwarding\" src=\"static_images/g_minimal_r0.png\" width=\"250\">\n",
    "    <br>\n",
    "    <em style=\"color: grey\">Figure 1: Example minimal graph after an attempted path repair.</em>\n",
    "  </p> \n",
    "</td>\n",
    "<td> \n",
    "  <p align=\"center\">\n",
    "    <img alt=\"Routing\" src=\"static_images/g_simple_r0.png\" width=\"250\">\n",
    "    <br>\n",
    "    <em style=\"color: grey\">Figure 2: Example simple graph after an attempted path repair.</em>\n",
    "  </p> \n",
    "</td>\n",
    "<td> \n",
    "  <p align=\"center\">\n",
    "    <img alt=\"Routing\" src=\"static_images/g_medium_r0.png\" width=\"250\">\n",
    "    <br>\n",
    "    <em style=\"color: grey\">Figure 3: Example medium graph after an attempted path repair.</em>\n",
    "  </p> \n",
    "</td>    \n",
    "</tr></table>\n",
    "<table><tr>\n",
    "<td> \n",
    "  <p align=\"center\" style=\"padding: 10px\">\n",
    "    <img alt=\"Forwarding\" src=\"static_images/g_full_r0.png\" width=\"250\">\n",
    "    <br>\n",
    "    <em style=\"color: grey\">Figure 4: Example full graph after an attempted path repair.</em>\n",
    "  </p> \n",
    "</td>\n",
    "<td> \n",
    "  <p align=\"center\">\n",
    "    <img alt=\"Routing\" src=\"static_images/g_spanning_r0.png\" width=\"250\">\n",
    "    <br>\n",
    "    <em style=\"color: grey\">Figure 5: Example spanning graph after an attempted path repair.</em>\n",
    "  </p> \n",
    "</td> \n",
    "</tr></table>\n",
    "\n",
    "### Experimentation \n",
    "\n",
    "For this assignment we will be recreating the results for success probability. In the results section of the Chandrasekhar there is a $32 \\times 32$ grid showing the results from 1024 tests ran for each combination of decay and explore probabilites. Since this would longer to run than Coursera allows, we will use a $3 \\times 3$ grid to create heat maps.\n",
    "\n",
    "As in the trail repair paper, we will vary the decay parameter in the interval $q_{\\text{decay}}\\in [0.01, 0.30]$ and the explore probability $q_{\\text{explore}}\\in [0.10, 0.40]$. As for the other parameters, we will use those that are defaulted in the code. These default parameters are the same that are in the original paper.\n",
    "\n",
    "### Running the Code\n",
    "\n",
    "You can run the code by calling python within this notebook. The code snipit below shows how to call the code on a minimal graph topology, a decay value of 0.01, a explore probability of 0.10.\n",
    "\n",
    "``python3 trailrepair.py -g minimal --decay 0.01 --explore 0.10``\n",
    "\n",
    "This code will return True if the ants successfully repaired the trail and False otherwise.\n",
    "\n",
    "<!-- Please note that Coursera imposes strict time limits on session run times, so it is advised that when developing the assignment, you complete your test runs by grouping each graph topology in its own session.  -->\n",
    "\n",
    "<a id='question1'></a>\n",
    "## Question 1:\n",
    "\n",
    "Your first task is to write the function `success_rate(graph, decay, explore)` that returns the success rate for a given graph. Just like in the paper, you will need to repeat the simulation 15 times to estimate the success rate. That is the success rate will be the total number of successes divided by 15. \n",
    "\n",
    "The following function call should return the success rate for the minimal graph topology, a decay value of 0.01, and a explore probability of 0.10.\n",
    "\n",
    "`success_rate(minimal, 0.01, 0.10)`\n",
    "\n",
    "You should use `subprocess` as seen in the negative selection assignment to run trailrepair.py with the appropriate arguments. We have included the necessary imports for doing so below. Note that you will need to parse the result.stdout (it is given as text with a newline character, so direct comparison to, e.g., True will not work)."
   ]
  },
  {
   "cell_type": "code",
   "execution_count": 6,
   "metadata": {
    "deletable": false,
    "nbgrader": {
     "cell_type": "code",
     "checksum": "3fc6728132f9914881276f02d81cb38d",
     "grade": false,
     "grade_id": "cell-0179f701142bd1d8",
     "locked": false,
     "schema_version": 3,
     "solution": true,
     "task": false
    }
   },
   "outputs": [
    {
     "name": "stdout",
     "output_type": "stream",
     "text": [
      "0.06666666666666667\n"
     ]
    }
   ],
   "source": [
    "import sys\n",
    "import subprocess\n",
    "from subprocess import run, PIPE\n",
    "from io import StringIO\n",
    "\n",
    "def success_rate(graph, decay, explore):\n",
    "    successes = 0\n",
    "    total = 15\n",
    "    for _ in range(total):\n",
    "        result = subprocess.run(['python3', 'trailrepair.py', '-g', str(graph), '--decay', str(decay), '--explore', str(explore)], stdout = subprocess.PIPE, text = True)\n",
    "    if result.stdout.strip() == 'True':\n",
    "        successes += 1\n",
    "    return successes / total\n",
    "    '''\n",
    "    Function to find the success rate for a given graph topology.\n",
    "    Inputs: \n",
    "        graph: graph topology, one of: [minimal | simple | medium | full | spanning | euroroad | chicago | uspower | paroad |caroad]\n",
    "        decay: fraction of pheromone that evaporates per time step\n",
    "        explore: probability that an ant takes an explore step\n",
    "    Output:\n",
    "        success_rate: average number of successes over 15 trials\n",
    "    '''\n",
    "    \n",
    "    # your code here\n",
    "    \n",
    "\n",
    "#     return success_rate"
   ]
  },
  {
   "cell_type": "markdown",
   "metadata": {
    "deletable": false,
    "editable": false,
    "nbgrader": {
     "cell_type": "markdown",
     "checksum": "9c2115adec3015090c787b78f3de198d",
     "grade": false,
     "grade_id": "cell-6336271350c183cc",
     "locked": true,
     "schema_version": 3,
     "solution": false,
     "task": false
    }
   },
   "source": [
    "<a id='question2'></a>\n",
    "## Question 2:\n",
    "\n",
    "Next, you will use the function you wrote in Question 1 to generate a heat map and use it to identify the explore and decay parameters that maximize the success rate. Write the function `max_success(graph)` that plots a heat map similar to that in the Chandrasekhar paper. The heat map will be $3\\times 3$ (10x10 is more realistic, but will not work on our course platform) and the parameter values will be in the following intervals, $q_{\\text{decay}}\\in [0.01, 0.30]$, using a step size of 0.145, and $q_{\\text{explore}}\\in [0.10, 0.40]$ using a step size of 0.15. The function will return a tuple `(decay, explore)` containing the values of $q_{\\text{decay}}$ and $q_{\\text{explore}}$ parameters that maximize the success rate.\n",
    "\n",
    "For the heatmap, we suggest using``seaborn`` which will be included for you along with other packages that may be helpful. So, if you have an ndarray (3x3) from, for example, running `shaped_success = np.reshape(success_array, (3,3))`, you can call `sns.heatmap(shaped_success)` to visualize it."
   ]
  },
  {
   "cell_type": "code",
   "execution_count": 7,
   "metadata": {
    "deletable": false,
    "nbgrader": {
     "cell_type": "code",
     "checksum": "ebddb70a557162f45e7b77fd555b31db",
     "grade": false,
     "grade_id": "cell-762071298c73073f",
     "locked": false,
     "schema_version": 3,
     "solution": true,
     "task": false
    }
   },
   "outputs": [],
   "source": [
    "import matplotlib.pyplot as plt\n",
    "import numpy as np\n",
    "import seaborn as sns\n",
    "import pandas as pd\n",
    "\n",
    "def max_success(graph):\n",
    "    decay_values = np.arange(0.01, 0.3, 0.145)\n",
    "    explore_values = np.arange(0.1, 0.4, 0.15)\n",
    "    success_rates = np.zeros((len(decay_values), len(explore_values)))\n",
    "    for i, decay in enumerate(decay_values):\n",
    "        for j, explore in enumerate(explore_values):\n",
    "            success_rate_value = success_rate(graph, decay, explore)\n",
    "            success_rates[i,j] = success_rate_value\n",
    "    decay_labels = [f\"{d:.2f}\" for d in decay_values]\n",
    "    explore_labels =[f\"{e:.2f}\" for e in explore_values]\n",
    "    heatmap_data = pd.DataFrame(success_rates, index = decay_labels, columns = explore_labels)\n",
    "    sns.heatmap(heatmap_data, annot = True)\n",
    "    plt.title(f\"Success Rate Heatmap for {graph} Graph\")\n",
    "    plt.xlabel(\"Explore Probability\")\n",
    "    plt.ylabel(\"Decay Rate\")\n",
    "    plt.show()\n",
    "    \n",
    "    max_index = np.unravel_index(success_rates.argmax(), success_rates.shape)\n",
    "    max_decay = decay_values[max_index[0]]\n",
    "    max_explore = explore_values[max_index[1]]\n",
    "    decay_explore = (max_decay, max_explore)\n",
    "    return decay_explore\n",
    "    '''\n",
    "    Function that plots a heatmap of success rates and returns the parameters that maximize success.\n",
    "    Input:\n",
    "        graph: graph topology, one of: [minimal | simple | medium | full | spanning | euroroad | chicago | uspower | paroad |caroad]\n",
    "    Output:\n",
    "        decay_explore: tuple of decay and explore parameters that maximize success rate\n",
    "    '''\n",
    "    "
   ]
  },
  {
   "cell_type": "code",
   "execution_count": 8,
   "metadata": {
    "deletable": false,
    "editable": false,
    "nbgrader": {
     "cell_type": "code",
     "checksum": "99b6752db4eeb0c29b6b479aad6446df",
     "grade": false,
     "grade_id": "cell-1ab6b0f629c0db56",
     "locked": true,
     "schema_version": 3,
     "solution": false,
     "task": false
    }
   },
   "outputs": [
    {
     "data": {
      "image/png": "[encoded data removed]",
      "text/plain": [
       "<Figure size 432x288 with 2 Axes>"
      ]
     },
     "metadata": {
      "needs_background": "light"
     },
     "output_type": "display_data"
    }
   ],
   "source": [
    "'''THIS IS A TEST CELL. RUN THIS WITH A 3x3 HEATMAP TO VERIFY CODE.'''\n",
    "n = max_success(\"minimal\")\n",
    "assert (n == (0.01, 0.25) or n == (0.155, 0.25))"
   ]
  },
  {
   "cell_type": "code",
   "execution_count": 9,
   "metadata": {
    "deletable": false,
    "editable": false,
    "nbgrader": {
     "cell_type": "code",
     "checksum": "e96096f6b45e74ddf32b959fddf7d230",
     "grade": false,
     "grade_id": "cell-2a6c7dc29c49eb98",
     "locked": true,
     "schema_version": 3,
     "solution": false,
     "task": false
    }
   },
   "outputs": [
    {
     "name": "stdout",
     "output_type": "stream",
     "text": [
      "(0.01, 0.25)\n"
     ]
    }
   ],
   "source": [
    "print(n)"
   ]
  },
  {
   "cell_type": "code",
   "execution_count": 10,
   "metadata": {
    "deletable": false,
    "editable": false,
    "nbgrader": {
     "cell_type": "code",
     "checksum": "ba2f7f9b41535aac0e52c8de1ade0439",
     "grade": true,
     "grade_id": "cell-c13b641aa47653fc",
     "locked": true,
     "points": 10,
     "schema_version": 3,
     "solution": false,
     "task": false
    }
   },
   "outputs": [
    {
     "data": {
      "text/plain": [
       "'\\nTHIS IS A TEST CELL, RUN ME!\\n'"
      ]
     },
     "execution_count": 10,
     "metadata": {},
     "output_type": "execute_result"
    }
   ],
   "source": [
    "'''\n",
    "THIS IS A TEST CELL, RUN ME!\n",
    "'''\n"
   ]
  },
  {
   "cell_type": "code",
   "execution_count": 11,
   "metadata": {
    "deletable": false,
    "editable": false,
    "nbgrader": {
     "cell_type": "code",
     "checksum": "6e695e01a7d8960860983fc74d7bd878",
     "grade": true,
     "grade_id": "cell-ac8de191dd6678f1",
     "locked": true,
     "points": 10,
     "schema_version": 3,
     "solution": false,
     "task": false
    }
   },
   "outputs": [
    {
     "data": {
      "text/plain": [
       "'\\nTHIS IS A TEST CELL, RUN ME!\\n'"
      ]
     },
     "execution_count": 11,
     "metadata": {},
     "output_type": "execute_result"
    }
   ],
   "source": [
    "'''\n",
    "THIS IS A TEST CELL, RUN ME!\n",
    "'''\n"
   ]
  },
  {
   "cell_type": "code",
   "execution_count": 12,
   "metadata": {
    "deletable": false,
    "editable": false,
    "nbgrader": {
     "cell_type": "code",
     "checksum": "e4579cb4cdb6c615a23a9fb520290b9a",
     "grade": true,
     "grade_id": "cell-a54353ca1f1502ca",
     "locked": true,
     "points": 10,
     "schema_version": 3,
     "solution": false,
     "task": false
    }
   },
   "outputs": [
    {
     "data": {
      "text/plain": [
       "'\\nTHIS IS A TEST CELL, RUN ME!\\n'"
      ]
     },
     "execution_count": 12,
     "metadata": {},
     "output_type": "execute_result"
    }
   ],
   "source": [
    "'''\n",
    "THIS IS A TEST CELL, RUN ME!\n",
    "'''\n"
   ]
  },
  {
   "cell_type": "code",
   "execution_count": null,
   "metadata": {},
   "outputs": [],
   "source": []
  }
 ],
 "metadata": {
  "kernelspec": {
   "display_name": "Python 3",
   "language": "python",
   "name": "python3"
  },
  "language_info": {
   "codemirror_mode": {
    "name": "ipython",
    "version": 3
   },
   "file_extension": ".py",
   "mimetype": "text/x-python",
   "name": "python",
   "nbconvert_exporter": "python",
   "pygments_lexer": "ipython3",
   "version": "3.7.6"
  }
 },
 "nbformat": 4,
 "nbformat_minor": 4
}
