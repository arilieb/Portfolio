{
 "cells": [
  {
   "cell_type": "markdown",
   "metadata": {
    "deletable": false,
    "editable": false,
    "nbgrader": {
     "cell_type": "markdown",
     "checksum": "ea1db22a4f140b9711671609f1b2f5ee",
     "grade": false,
     "grade_id": "cell-7f0ac9940f3776d0",
     "locked": true,
     "schema_version": 3,
     "solution": false,
     "task": false
    }
   },
   "source": [
    "# Assignment 3: Extensions to Balanced Colorings and Neutral Landscapes\n",
    "\n",
    "### Assignment description:\n",
    "\n",
    "In this assignment you will be asked to extend your last assignment in graph coloring to include finding balanced colorings and exploration of neutral coloring landscapes. Again, we will use the DEAP package in python to handle the genetic algorithm (GA). \n",
    "\n",
    "### Assignment goals:\n",
    "\n",
    "1. Use a genetic algorithm to find balanced colorings for a graph\n",
    "2. Explore the neutrality of graph colorings\n",
    "\n",
    "### Assignment question overview:\n",
    "\n",
    "1. Write a fitness fucntion for the balanced coloring problem. [Question 1 here.](#question1)\n",
    "2. Paste your fitness function from assignment 2. (not graded) [Question 2 here.](#question2)\n",
    "3. Write a function to calculate the 1-step neutrality a graph. [Question 3 here.](#question3)\n"
   ]
  },
  {
   "cell_type": "markdown",
   "metadata": {
    "deletable": false,
    "editable": false,
    "nbgrader": {
     "cell_type": "markdown",
     "checksum": "9eeebfafd018b80cdca63656fbd96911",
     "grade": false,
     "grade_id": "cell-1a9916cf1bafe553",
     "locked": true,
     "schema_version": 3,
     "solution": false,
     "task": false
    }
   },
   "source": [
    "## Balanced Coloring Problem\n",
    "\n",
    "In the previous assignment our goal was to find any graph coloring such that no two adjacent vertices have the same color. In the balanced coloring problem, we will keep this definition but add a second constraint. That is a coloring in which no particular color is used more than the rest. To implement this problem we will assume that the inputs and graph representation will be the same as the previous assignment. In the balanced graph coloring problem the only thing that will change is the fitness function. \n",
    "\n",
    "To start, we will reuse the same set up from the previous assignment. This time the ``init_graph()`` function will be supplied for you. "
   ]
  },
  {
   "cell_type": "code",
   "execution_count": 1,
   "metadata": {
    "deletable": false,
    "editable": false,
    "nbgrader": {
     "cell_type": "code",
     "checksum": "f7257f5f48807ed3e5fc06d103c7d0e8",
     "grade": false,
     "grade_id": "cell-7ded712f858f7c31",
     "locked": true,
     "schema_version": 3,
     "solution": false,
     "task": false
    }
   },
   "outputs": [],
   "source": [
    "import random\n",
    "import numpy as np\n",
    "from deap import base, creator, tools, algorithms\n",
    "import math\n",
    "\n",
    "creator.create(\"FitnessMax\", base.Fitness, weights=(1.0,))\n",
    "creator.create(\"Individual\", list, fitness=creator.FitnessMax)\n",
    "toolbox = base.Toolbox()\n",
    "toolbox.register(\"attr_bool\", random.randint, 0, 1)\n",
    "\n",
    "class AdjNode:\n",
    "    def __init__(self, value):\n",
    "        self.vertex = value\n",
    "        self.next = None\n",
    "\n",
    "\n",
    "class Graph:\n",
    "    def __init__(self, num, colors):\n",
    "        self.n = num\n",
    "        self.k = colors\n",
    "        self.graph = [None] * self.n\n",
    "        self.color_assignment = [None] * self.n\n",
    "        \n",
    "    def get_node(self, s):\n",
    "        return self.graph[s]\n",
    "        \n",
    "    # Add edges\n",
    "    def add_edge(self, s, d):\n",
    "        node = AdjNode(d)  # creates a new node for the destination half of the edge\n",
    "        node.next = self.graph[s]  # connects the newly-created node to the existing linked list (at the front)\n",
    "        self.graph[s] = node  # updates the graph list to include the new node (which points to the rest of the list)\n",
    "\n",
    "        node = AdjNode(s)\n",
    "        node.next = self.graph[d]\n",
    "        self.graph[d] = node\n",
    "        \n",
    "def init_graph(file):  \n",
    "    ##open file to read from\n",
    "    f = open(file, \"r\")\n",
    "    ##store n\n",
    "    n = int(f.readline())\n",
    "    ##store k\n",
    "    k = int(f.readline())\n",
    "    ##instantiate graph obj\n",
    "    graph = Graph(n,k)\n",
    "    \n",
    "    ##get the rest of the lines\n",
    "    while True:\n",
    "        str = f.readline()\n",
    "        ##break if line is empty\n",
    "        if not str:\n",
    "            break\n",
    "        ##add edge to graph\n",
    "        pair = str.split()\n",
    "        graph.add_edge(int(pair[0]), int(pair[1]))\n",
    "            \n",
    "    f.close()\n",
    "    return graph\n",
    "\n",
    "\n",
    "def register_ind(graph):\n",
    "    ##get value for n and k from graph\n",
    "    n = graph.n\n",
    "    k = graph.k\n",
    "    \n",
    "    ##calculate the size of each individual\n",
    "    ind_size = math.ceil(math.log2(k))*n\n",
    "    \n",
    "    ##register individual and population with toolbox\n",
    "    toolbox.register(\"individual\", tools.initRepeat, creator.Individual, toolbox.attr_bool, n=ind_size)\n",
    "    toolbox.register(\"population\", tools.initRepeat, list, toolbox.individual)"
   ]
  },
  {
   "cell_type": "markdown",
   "metadata": {
    "deletable": false,
    "editable": false,
    "nbgrader": {
     "cell_type": "markdown",
     "checksum": "169c8937edf01d95118be3d3bc5521f5",
     "grade": false,
     "grade_id": "cell-e7b52e68efa589ef",
     "locked": true,
     "schema_version": 3,
     "solution": false,
     "task": false
    }
   },
   "source": [
    "### Fitness Function\n",
    "\n",
    "Recall that a balanced coloring is a coloring where no two adjacent nodes share the same color **and** no color is used more than others. To find such colorings, we will need to adjust the fitness function accordingly. To do so, we will add an extra penalty term to the original fitness function that will reduce the fitness of unbalanced colorings. Let $G=(V,E)$ be a graph with $n$ nodes and $m$ edges. If $c(i)$ is the assigned color of node $i$, then a coloring of a graph is $C(G)=\\{c(0), c(1),...,c(n)\\}$. For a given edge, $i,j\\in E$, let the function $\\delta(i,j)=1$ if $c(i)\\not = c(j)$, and $\\delta(i,j)=0$ if $c(i)=c(j)$. A fitness function for the balanced coloring problem then is:\n",
    "\n",
    "$$F(C(G)) = \\frac{\\sum_{i,j\\in E}\\delta(i,j)}{m}\\prod_{j=1}^{k}\\frac{|V_j|}{n}$$\n",
    "\n",
    "where $|V_j|$ is the size of the set of all nodes of color j.\n",
    "<a id='question1'></a>\n",
    "## Question 1: \n",
    "\n",
    "Write a fitness function ``eval_balance(graph, indiviudal)`` that computes the fitness of an individual given a graph and an indiviudal. The input will be a graph object and a individual object. The output will be the total fitness of an individual. Use the same indiviudal encoding scheme as in assignment 2. **Remember that if $\\lceil log_2(k) \\rceil \\not= log_2(k)$ then some color encodings will be invalid**. "
   ]
  },
  {
   "cell_type": "code",
   "execution_count": 2,
   "metadata": {
    "deletable": false,
    "nbgrader": {
     "cell_type": "code",
     "checksum": "2b4d8051254a77ab71e05127b632be4d",
     "grade": false,
     "grade_id": "cell-7cf287e4dc89aed0",
     "locked": false,
     "schema_version": 3,
     "solution": true,
     "task": false
    }
   },
   "outputs": [],
   "source": [
    "def eval_balance(graph, individual):\n",
    "    edges = []\n",
    "    section_size = math.ceil(math.log2(graph.k))\n",
    "    index = 0\n",
    "    for i in range(0, len(individual), section_size):\n",
    "        bits = individual[i:i+section_size]\n",
    "        number = int(''.join(map(str, bits)), 2) \n",
    "        graph.color_assignment[index] = number\n",
    "        index += 1\n",
    "        \n",
    "    for i in range (len(graph.graph)):\n",
    "        edges.append([i,graph.graph[i].vertex])\n",
    "        temp = graph.graph[i].next\n",
    "        while temp != None:\n",
    "            edges.append([i, temp.vertex])\n",
    "            temp = temp.next\n",
    "            \n",
    "    invalids_possible = False\n",
    "    if math.ceil(math.log2(graph.k)) != math.log2(graph.k):\n",
    "        invalids_possible = True\n",
    "    \n",
    "    color_dict = {i:0 for i in range(2**section_size)}\n",
    "\n",
    "    for i in range(graph.n):\n",
    "        color_dict[graph.color_assignment[i]] += 1\n",
    "    if invalids_possible == True:\n",
    "        del color_dict[2**section_size - 1]\n",
    "    bi_color_endpoints = 0\n",
    "    for i in edges:\n",
    "        if invalids_possible == True:\n",
    "            invalid = 2**section_size - 1\n",
    "            if graph.color_assignment[i[0]] == invalid or graph.color_assignment[i[1]] == invalid:\n",
    "                return(0,)\n",
    "        if graph.color_assignment[i[0]] != graph.color_assignment[i[1]]:   \n",
    "            bi_color_endpoints += 1\n",
    "    \n",
    "    penalty_coeff = 1\n",
    "    for value in color_dict.values():\n",
    "        penalty_coeff *= value/graph.n\n",
    "            \n",
    "    fitness = (bi_color_endpoints/len(edges))*penalty_coeff\n",
    "    return(fitness,)\n"
   ]
  },
  {
   "cell_type": "markdown",
   "metadata": {
    "deletable": false,
    "editable": false,
    "nbgrader": {
     "cell_type": "markdown",
     "checksum": "9572e74669942faafeaadf798691afdc",
     "grade": false,
     "grade_id": "cell-6a5419648bdbf20e",
     "locked": true,
     "schema_version": 3,
     "solution": false,
     "task": false
    }
   },
   "source": [
    "Your code should return (0.03125,) for input [0, 1, 0, 0, 1, 0, 0, 1]"
   ]
  },
  {
   "cell_type": "code",
   "execution_count": 3,
   "metadata": {
    "deletable": false,
    "editable": false,
    "nbgrader": {
     "cell_type": "code",
     "checksum": "e8f4615e37258c6b523b658fbeef942a",
     "grade": false,
     "grade_id": "cell-edb9b15a619902cd",
     "locked": true,
     "schema_version": 3,
     "solution": false,
     "task": false
    }
   },
   "outputs": [
    {
     "data": {
      "text/plain": [
       "(0.03125,)"
      ]
     },
     "execution_count": 3,
     "metadata": {},
     "output_type": "execute_result"
    }
   ],
   "source": [
    "graph = init_graph(\"graphs/graph_1.txt\")\n",
    "register_ind(graph)\n",
    "\n",
    "ind = creator.Individual([0, 1, 0, 0, 1, 0, 0, 1])\n",
    "\n",
    "eval_balance(graph, ind)"
   ]
  },
  {
   "cell_type": "code",
   "execution_count": 4,
   "metadata": {
    "deletable": false,
    "editable": false,
    "nbgrader": {
     "cell_type": "code",
     "checksum": "4299d8c4c7dd6b8f47f9c618a948959f",
     "grade": true,
     "grade_id": "cell-41d474966d9cbfc1",
     "locked": true,
     "points": 20,
     "schema_version": 3,
     "solution": false,
     "task": false
    }
   },
   "outputs": [
    {
     "data": {
      "text/plain": [
       "'\\nThis cell contains hidden tests, which are run on submission.\\nTest cases 1-10 correspond to graphs/graph_1.txt, test cases 11-20 correspond to graphs/graph_2.txt.\\n'"
      ]
     },
     "execution_count": 4,
     "metadata": {},
     "output_type": "execute_result"
    }
   ],
   "source": [
    "'''\n",
    "This cell contains hidden tests, which are run on submission.\n",
    "Test cases 1-10 correspond to graphs/graph_1.txt, test cases 11-20 correspond to graphs/graph_2.txt.\n",
    "'''\n",
    " \n"
   ]
  },
  {
   "cell_type": "markdown",
   "metadata": {
    "deletable": false,
    "editable": false,
    "nbgrader": {
     "cell_type": "markdown",
     "checksum": "86b12a15f3ae12146c4bddaa10b5f4c1",
     "grade": false,
     "grade_id": "cell-9c1877d27568277e",
     "locked": true,
     "schema_version": 3,
     "solution": false,
     "task": false
    }
   },
   "source": [
    "### Evolving the population\n",
    "\n",
    "Now that we have all of the necessary functions to create a graph and calculate the fitness of an indiviudal, we can create our population and allow it to evolve. Similar to assignment 2, there are 4 graphs provided. We will need to write a main function that takes a path to the graph file and finds the coloring with the highest fitness. "
   ]
  },
  {
   "cell_type": "code",
   "execution_count": 5,
   "metadata": {
    "deletable": false,
    "editable": false,
    "nbgrader": {
     "cell_type": "code",
     "checksum": "c8d64aa7e4fcadfb3524198d4d4d76d8",
     "grade": false,
     "grade_id": "cell-2a0efeabc13ece5f",
     "locked": true,
     "schema_version": 3,
     "solution": false,
     "task": false
    }
   },
   "outputs": [],
   "source": [
    "def main(file):\n",
    "    import numpy\n",
    "    \n",
    "    graph = init_graph(file)\n",
    "    register_ind(graph)\n",
    "    \n",
    "    toolbox.register(\"evaluate\", eval_balance, graph)\n",
    "    toolbox.register(\"mate\", tools.cxTwoPoint)\n",
    "    toolbox.register(\"mutate\", tools.mutFlipBit, indpb=0.10)\n",
    "    toolbox.register(\"select\", tools.selTournament, tournsize=3)\n",
    "    \n",
    "    pop = toolbox.population(n=50)\n",
    "    hof = tools.HallOfFame(1)\n",
    "    stats = tools.Statistics(lambda ind: ind.fitness.values)\n",
    "    stats.register(\"avg\", numpy.mean)\n",
    "    stats.register(\"min\", numpy.min)\n",
    "    stats.register(\"max\", numpy.max)\n",
    "    \n",
    "    pop, logbook = algorithms.eaSimple(pop, toolbox, cxpb=0.5, mutpb=0.2, ngen=30, stats=stats, halloffame=hof, verbose=True)\n",
    "    \n",
    "    return pop, logbook, hof"
   ]
  },
  {
   "cell_type": "code",
   "execution_count": 6,
   "metadata": {
    "deletable": false,
    "editable": false,
    "nbgrader": {
     "cell_type": "code",
     "checksum": "4d6b5c90d333c3d142d82842ba7e05f0",
     "grade": false,
     "grade_id": "cell-02496186eb32d6d6",
     "locked": true,
     "schema_version": 3,
     "solution": false,
     "task": false
    }
   },
   "outputs": [
    {
     "name": "stdout",
     "output_type": "stream",
     "text": [
      "gen\tnevals\tavg       \tmin\tmax      \n",
      "0  \t50    \t0.00377143\t0  \t0.0274286\n",
      "1  \t28    \t0.00754286\t0  \t0.0274286\n",
      "2  \t23    \t0.0144    \t0  \t0.0274286\n",
      "3  \t33    \t0.0197029 \t0  \t0.0274286\n",
      "4  \t32    \t0.0226743 \t0  \t0.0274286\n",
      "5  \t28    \t0.0215314 \t0  \t0.0274286\n",
      "6  \t30    \t0.0250971 \t0  \t0.032    \n",
      "7  \t27    \t0.02448   \t0  \t0.0274286\n",
      "8  \t31    \t0.0265829 \t0  \t0.0274286\n",
      "9  \t34    \t0.0256914 \t0  \t0.0274286\n",
      "10 \t32    \t0.02384   \t0  \t0.0274286\n",
      "11 \t31    \t0.0233143 \t0  \t0.0274286\n",
      "12 \t38    \t0.0239771 \t0  \t0.0274286\n",
      "13 \t31    \t0.0261257 \t0  \t0.0274286\n",
      "14 \t36    \t0.0228343 \t0  \t0.0274286\n",
      "15 \t31    \t0.0224457 \t0  \t0.0274286\n",
      "16 \t35    \t0.0247771 \t0  \t0.0274286\n",
      "17 \t23    \t0.0256914 \t0  \t0.0274286\n",
      "18 \t24    \t0.02384   \t0  \t0.0274286\n",
      "19 \t38    \t0.0246857 \t0  \t0.0274286\n",
      "20 \t25    \t0.0256    \t0  \t0.0274286\n",
      "21 \t22    \t0.02576   \t0  \t0.0274286\n",
      "22 \t35    \t0.02624   \t0  \t0.0274286\n",
      "23 \t32    \t0.0249371 \t0  \t0.0274286\n",
      "24 \t37    \t0.0209371 \t0  \t0.0274286\n",
      "25 \t38    \t0.0256914 \t0  \t0.0274286\n",
      "26 \t29    \t0.0261486 \t0  \t0.0274286\n",
      "27 \t26    \t0.0246857 \t0  \t0.0274286\n",
      "28 \t31    \t0.0263314 \t0  \t0.0274286\n",
      "29 \t26    \t0.02304   \t0  \t0.0274286\n",
      "30 \t36    \t0.0256    \t0  \t0.0274286\n",
      "Best individual is: [1, 0, 1, 0, 0, 1, 0, 0, 0, 1]\n",
      "with fitness: (0.03200000000000001,)\n"
     ]
    },
    {
     "data": {
      "image/png": "[encoded data removed]",
      "text/plain": [
       "<Figure size 432x288 with 1 Axes>"
      ]
     },
     "metadata": {
      "needs_background": "light"
     },
     "output_type": "display_data"
    }
   ],
   "source": [
    "if __name__ == \"__main__\":\n",
    "    pop, log, hof = main(\"graphs/graph_2.txt\")\n",
    "    print(\"Best individual is: %s\\nwith fitness: %s\" % (hof[0], hof[0].fitness))\n",
    "    \n",
    "    import matplotlib.pyplot as plt\n",
    "    gen, avg, min_, max_ = log.select(\"gen\", \"avg\", \"min\", \"max\")\n",
    "    plt.plot(gen, avg, label=\"average\")\n",
    "    plt.plot(gen, min_, label=\"minimum\")\n",
    "    plt.plot(gen, max_, label=\"maximum\")\n",
    "    plt.xlabel(\"Generation\")\n",
    "    plt.ylabel(\"Fitness\")\n",
    "    plt.legend(loc=\"lower right\")\n",
    "    plt.show()"
   ]
  },
  {
   "cell_type": "markdown",
   "metadata": {
    "deletable": false,
    "editable": false,
    "nbgrader": {
     "cell_type": "markdown",
     "checksum": "7c1283a0899398c4ac92580c4f8271b4",
     "grade": false,
     "grade_id": "cell-b9bf205b8dc33760",
     "locked": true,
     "schema_version": 3,
     "solution": false,
     "task": false
    }
   },
   "source": [
    "## Neutral Landscapes\n",
    "\n",
    "In this section of the assignment we will explore the neutrality of graph colorings. A mutation to an individual is *neutral* if it does not affect the fitness of that individual.\n",
    "\n",
    "First, you will need to implement 1-step neutrality. That is, starting with a single valid coloring, make copies in which one gene is changed to one of the other valid colors. Performing this process should produce $n*(k-1)$ individuals. You will then report the fraction of those individuals that have the same fitness as the original coloring.\n",
    "<a id='question2'></a>\n",
    "## Question 2:\n",
    "\n",
    "Below, you will copy and paste your ``eval_graph(graph, individual)`` function from assignment 2 to use as a helper function for question 3. "
   ]
  },
  {
   "cell_type": "code",
   "execution_count": 7,
   "metadata": {
    "deletable": false,
    "nbgrader": {
     "cell_type": "code",
     "checksum": "d8a213cbff32a611086a765813328b4e",
     "grade": false,
     "grade_id": "cell-93b9293ca139467d",
     "locked": false,
     "schema_version": 3,
     "solution": true,
     "task": false
    }
   },
   "outputs": [],
   "source": [
    "def eval_graph(graph, individual):\n",
    "    edges = []\n",
    "    section_size = math.ceil(math.log2(graph.k))\n",
    "    index = 0\n",
    "    for i in range(0, len(individual), section_size):\n",
    "        bits = individual[i:i+section_size]\n",
    "        number = int(''.join(map(str, bits)), 2) \n",
    "        graph.color_assignment[index] = number\n",
    "        index += 1\n",
    "        \n",
    "    for i in range (len(graph.graph)):\n",
    "        edges.append([i,graph.graph[i].vertex])\n",
    "        temp = graph.graph[i].next\n",
    "        while temp != None:\n",
    "            edges.append([i, temp.vertex])\n",
    "            temp = temp.next\n",
    "            \n",
    "    invalids_possible = False\n",
    "    if math.ceil(math.log2(graph.k)) != math.log2(graph.k):\n",
    "        invalids_possible = True\n",
    "        \n",
    "    bi_color_endpoints = 0\n",
    "    for i in edges:\n",
    "        if invalids_possible == True:\n",
    "            invalid = 2**section_size - 1\n",
    "            if graph.color_assignment[i[0]] == invalid or graph.color_assignment[i[1]] == invalid:\n",
    "                return(0,)\n",
    "        if graph.color_assignment[i[0]] != graph.color_assignment[i[1]]:\n",
    "            \n",
    "            bi_color_endpoints += 1\n",
    "    fitness = bi_color_endpoints/len(edges)\n",
    "    return(fitness,)\n"
   ]
  },
  {
   "cell_type": "markdown",
   "metadata": {
    "deletable": false,
    "editable": false,
    "nbgrader": {
     "cell_type": "markdown",
     "checksum": "4618abd1f7af43ee44827d6a428c6ccd",
     "grade": false,
     "grade_id": "cell-6ab64e4de8c8f359",
     "locked": true,
     "schema_version": 3,
     "solution": false,
     "task": false
    }
   },
   "source": [
    "<a id='question3'></a>\n",
    "## Question 3:\n",
    "\n",
    "Write the function ``one_neutral(graph, individual)`` that computes the neutrality of single mutations (the fraction of mutations that result in the same fitness that the original coloring produced). The inputs will be a graph object and an individual object and the output will be the neutrality."
   ]
  },
  {
   "cell_type": "code",
   "execution_count": 23,
   "metadata": {
    "deletable": false,
    "nbgrader": {
     "cell_type": "code",
     "checksum": "fd712ba0b383165c64ac0920bfbefa5a",
     "grade": false,
     "grade_id": "cell-1ca4f32d80ff87a9",
     "locked": false,
     "schema_version": 3,
     "solution": true,
     "task": false
    }
   },
   "outputs": [],
   "source": [
    "import copy\n",
    "def one_neutral(graph, individual):\n",
    "    '''\n",
    "    Function to compute the neutrality of a graph. \n",
    "    Inputs: \n",
    "        individual: individual object from DEAP toolbox\n",
    "        graph: graph object containing nodes and edges\n",
    "    Outputs:\n",
    "        neutrality: neutrality of the graph\n",
    "    '''\n",
    "    base_fitness = eval_graph(graph, individual)\n",
    "#     print(graph.color_assignment)\n",
    "    \n",
    "    color_rollover = (2**math.ceil(math.log2(graph.k)))\n",
    "    invalids_possible = False\n",
    "    if math.ceil(math.log2(graph.k)) != math.log2(graph.k):\n",
    "        invalids_possible = True\n",
    "        color_rollover -= 1    \n",
    "    mutants = []\n",
    "    for i in range(graph.n):\n",
    "        color_assignment = graph.color_assignment[i]\n",
    "        temp = (graph.color_assignment[i] + 1) % color_rollover\n",
    "        while temp != color_assignment:\n",
    "            mutant = copy.deepcopy(graph.color_assignment)\n",
    "            mutant[i] = temp\n",
    "            mutants.append(mutant)\n",
    "            temp = (temp + 1) % color_rollover\n",
    "#     print(mutants)       \n",
    "    \n",
    "    neutral_mutants = 0\n",
    "    section_size = math.ceil(math.log2(graph.k))\n",
    "    for i in mutants:\n",
    "        if eval_graph(graph, [int(bit) for num in i for bit in format(num, f'0{section_size}b')]) == base_fitness:\n",
    "            neutral_mutants += 1\n",
    "    \n",
    "#     print(neutral_mutants)\n",
    "    neutrality = neutral_mutants/len(mutants)\n",
    "    return neutrality\n",
    "# graph = init_graph(\"graphs/graph_1.txt\")\n",
    "# register_ind(graph)\n",
    "\n",
    "# ind = creator.Individual([0, 1, 0, 0, 1, 0, 0, 1])\n",
    "\n",
    "# one_neutral(graph, ind)   "
   ]
  },
  {
   "cell_type": "markdown",
   "metadata": {
    "deletable": false,
    "editable": false,
    "nbgrader": {
     "cell_type": "markdown",
     "checksum": "8f8055ad386abdcb583e61a90830f034",
     "grade": false,
     "grade_id": "cell-cd210d432036c052",
     "locked": true,
     "schema_version": 3,
     "solution": false,
     "task": false
    }
   },
   "source": [
    "Your code should return 0.25 for input \\[0, 1, 0, 0, 1, 0, 0, 1\\]; check that it does:"
   ]
  },
  {
   "cell_type": "code",
   "execution_count": 24,
   "metadata": {
    "deletable": false,
    "editable": false,
    "nbgrader": {
     "cell_type": "code",
     "checksum": "8b0d78070a06892aafc5879921e90a79",
     "grade": false,
     "grade_id": "cell-b2fd6b1f60e03a52",
     "locked": true,
     "schema_version": 3,
     "solution": false,
     "task": false
    }
   },
   "outputs": [
    {
     "data": {
      "text/plain": [
       "0.25"
      ]
     },
     "execution_count": 24,
     "metadata": {},
     "output_type": "execute_result"
    }
   ],
   "source": [
    "graph = init_graph(\"graphs/graph_1.txt\")\n",
    "register_ind(graph)\n",
    "\n",
    "ind = creator.Individual([0, 1, 0, 0, 1, 0, 0, 1])\n",
    "\n",
    "one_neutral(graph, ind)"
   ]
  },
  {
   "cell_type": "code",
   "execution_count": null,
   "metadata": {
    "deletable": false,
    "editable": false,
    "nbgrader": {
     "cell_type": "code",
     "checksum": "8fc62f95e74ec1a158fa1746bf7b83e4",
     "grade": true,
     "grade_id": "cell-da9240172538d288",
     "locked": true,
     "points": 20,
     "schema_version": 3,
     "solution": false,
     "task": false
    }
   },
   "outputs": [],
   "source": [
    "'''\n",
    "This cell contains hidden tests, which are run on submission.\n",
    "There are five test cases each for graph_1 to graph_4.\n",
    "'''\n"
   ]
  },
  {
   "cell_type": "code",
   "execution_count": null,
   "metadata": {},
   "outputs": [],
   "source": []
  }
 ],
 "metadata": {
  "kernelspec": {
   "display_name": "Python 3",
   "language": "python",
   "name": "python3"
  },
  "language_info": {
   "codemirror_mode": {
    "name": "ipython",
    "version": 3
   },
   "file_extension": ".py",
   "mimetype": "text/x-python",
   "name": "python",
   "nbconvert_exporter": "python",
   "pygments_lexer": "ipython3",
   "version": "3.7.6"
  }
 },
 "nbformat": 4,
 "nbformat_minor": 5
}
